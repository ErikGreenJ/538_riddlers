{
 "cells": [
  {
   "cell_type": "code",
   "execution_count": 58,
   "metadata": {},
   "outputs": [],
   "source": [
    "import numpy as np\n",
    "import pandas as pd\n",
    "\n",
    "from time import sleep\n",
    "\n",
    "import matplotlib.pyplot as plt\n",
    "import seaborn as sns\n",
    "%matplotlib inline"
   ]
  },
  {
   "cell_type": "code",
   "execution_count": 14,
   "metadata": {},
   "outputs": [],
   "source": [
    "def spelling_bee(order='decreasing', iterations=1000000):    \n",
    "    \n",
    "    #returns the winner of a single spelling bee\n",
    "    def single_contest(contestant_list):\n",
    "        con = contestant_list.copy()\n",
    "        while len(con) > 1:\n",
    "            for turn in con:\n",
    "                n = np.random.binomial(1, turn)\n",
    "                if not n:\n",
    "                    con.remove(turn)\n",
    "                if len(con) == 1:\n",
    "                    winner = con[0]\n",
    "        return winner\n",
    "    \n",
    "    if order == 'decreasing':\n",
    "        contestants = [x/100 for x in range(99,89,-1)]\n",
    "    elif order == 'increasing':\n",
    "        contestants = [x/100 for x in range(90,100)]\n",
    "    else:\n",
    "        return 'incorrect order'\n",
    "    \n",
    "    its = iterations\n",
    "        \n",
    "#   #list fills with winner if .99 is winner\n",
    "    winners = []\n",
    "    \n",
    "    while iterations:\n",
    "        x = single_contest(contestants)\n",
    "        if x == .99:\n",
    "            winners.append(x)\n",
    "        iterations -= 1\n",
    "    \n",
    "    #returns % of times the p=.99 contestant wins \n",
    "    return len(winners)/its"
   ]
  },
  {
   "cell_type": "code",
   "execution_count": 15,
   "metadata": {
    "collapsed": true
   },
   "outputs": [
    {
     "name": "stdout",
     "output_type": "stream",
     "text": [
      "0 done, buddy.\n",
      "1 done, buddy.\n",
      "2 done, buddy.\n",
      "3 done, buddy.\n",
      "4 done, buddy.\n",
      "5 done, buddy.\n",
      "6 done, buddy.\n",
      "7 done, buddy.\n",
      "8 done, buddy.\n",
      "9 done, buddy.\n",
      "10 done, buddy.\n",
      "11 done, buddy.\n",
      "12 done, buddy.\n",
      "13 done, buddy.\n",
      "14 done, buddy.\n",
      "15 done, buddy.\n",
      "16 done, buddy.\n",
      "17 done, buddy.\n",
      "18 done, buddy.\n",
      "19 done, buddy.\n",
      "20 done, buddy.\n",
      "21 done, buddy.\n",
      "22 done, buddy.\n",
      "23 done, buddy.\n",
      "24 done, buddy.\n",
      "25 done, buddy.\n",
      "26 done, buddy.\n",
      "27 done, buddy.\n",
      "28 done, buddy.\n",
      "29 done, buddy.\n",
      "30 done, buddy.\n",
      "31 done, buddy.\n",
      "32 done, buddy.\n",
      "33 done, buddy.\n",
      "34 done, buddy.\n",
      "35 done, buddy.\n",
      "36 done, buddy.\n",
      "37 done, buddy.\n",
      "38 done, buddy.\n",
      "39 done, buddy.\n",
      "40 done, buddy.\n",
      "41 done, buddy.\n",
      "42 done, buddy.\n",
      "43 done, buddy.\n",
      "44 done, buddy.\n",
      "45 done, buddy.\n",
      "46 done, buddy.\n",
      "47 done, buddy.\n",
      "48 done, buddy.\n",
      "49 done, buddy.\n",
      "50 done, buddy.\n",
      "51 done, buddy.\n",
      "52 done, buddy.\n",
      "53 done, buddy.\n",
      "54 done, buddy.\n",
      "55 done, buddy.\n",
      "56 done, buddy.\n",
      "57 done, buddy.\n",
      "58 done, buddy.\n",
      "59 done, buddy.\n",
      "60 done, buddy.\n",
      "61 done, buddy.\n",
      "62 done, buddy.\n",
      "63 done, buddy.\n",
      "64 done, buddy.\n",
      "65 done, buddy.\n",
      "66 done, buddy.\n",
      "67 done, buddy.\n",
      "68 done, buddy.\n",
      "69 done, buddy.\n",
      "70 done, buddy.\n",
      "71 done, buddy.\n",
      "72 done, buddy.\n",
      "73 done, buddy.\n",
      "74 done, buddy.\n",
      "75 done, buddy.\n",
      "76 done, buddy.\n",
      "77 done, buddy.\n",
      "78 done, buddy.\n",
      "79 done, buddy.\n",
      "80 done, buddy.\n",
      "81 done, buddy.\n",
      "82 done, buddy.\n",
      "83 done, buddy.\n",
      "84 done, buddy.\n",
      "85 done, buddy.\n",
      "86 done, buddy.\n",
      "87 done, buddy.\n",
      "88 done, buddy.\n",
      "89 done, buddy.\n",
      "90 done, buddy.\n",
      "91 done, buddy.\n",
      "92 done, buddy.\n",
      "93 done, buddy.\n",
      "94 done, buddy.\n",
      "95 done, buddy.\n",
      "96 done, buddy.\n",
      "97 done, buddy.\n",
      "98 done, buddy.\n",
      "99 done, buddy.\n"
     ]
    },
    {
     "data": {
      "text/plain": [
       "0.5137269400000001"
      ]
     },
     "execution_count": 15,
     "metadata": {},
     "output_type": "execute_result"
    }
   ],
   "source": [
    "#find average of 100 times iterating 1,000,000 times (.99 goes first)\n",
    "results_99_first = []\n",
    "for jj in range(100):\n",
    "    results_99_first.append(spelling_bee())\n",
    "    print(f'{jj} done, buddy.')\n",
    "    sleep(80)\n",
    "\n",
    "answer_1 = np.mean(results_99_first)\n",
    "answer_1"
   ]
  },
  {
   "cell_type": "markdown",
   "metadata": {},
   "source": [
    ".99 goes first = 0.5137269400000001"
   ]
  },
  {
   "cell_type": "code",
   "execution_count": 17,
   "metadata": {
    "collapsed": true
   },
   "outputs": [
    {
     "name": "stdout",
     "output_type": "stream",
     "text": [
      "0 done, buddy.\n",
      "1 done, buddy.\n",
      "2 done, buddy.\n",
      "3 done, buddy.\n",
      "4 done, buddy.\n",
      "5 done, buddy.\n",
      "6 done, buddy.\n",
      "7 done, buddy.\n",
      "8 done, buddy.\n",
      "9 done, buddy.\n",
      "10 done, buddy.\n",
      "11 done, buddy.\n",
      "12 done, buddy.\n",
      "13 done, buddy.\n",
      "14 done, buddy.\n",
      "15 done, buddy.\n",
      "16 done, buddy.\n",
      "17 done, buddy.\n",
      "18 done, buddy.\n",
      "19 done, buddy.\n",
      "20 done, buddy.\n",
      "21 done, buddy.\n",
      "22 done, buddy.\n",
      "23 done, buddy.\n",
      "24 done, buddy.\n",
      "25 done, buddy.\n",
      "26 done, buddy.\n",
      "27 done, buddy.\n",
      "28 done, buddy.\n",
      "29 done, buddy.\n",
      "30 done, buddy.\n",
      "31 done, buddy.\n",
      "32 done, buddy.\n",
      "33 done, buddy.\n",
      "34 done, buddy.\n",
      "35 done, buddy.\n",
      "36 done, buddy.\n",
      "37 done, buddy.\n",
      "38 done, buddy.\n",
      "39 done, buddy.\n",
      "40 done, buddy.\n",
      "41 done, buddy.\n",
      "42 done, buddy.\n",
      "43 done, buddy.\n",
      "44 done, buddy.\n",
      "45 done, buddy.\n",
      "46 done, buddy.\n",
      "47 done, buddy.\n",
      "48 done, buddy.\n",
      "49 done, buddy.\n",
      "50 done, buddy.\n",
      "51 done, buddy.\n",
      "52 done, buddy.\n",
      "53 done, buddy.\n",
      "54 done, buddy.\n",
      "55 done, buddy.\n",
      "56 done, buddy.\n",
      "57 done, buddy.\n",
      "58 done, buddy.\n",
      "59 done, buddy.\n",
      "60 done, buddy.\n",
      "61 done, buddy.\n",
      "62 done, buddy.\n",
      "63 done, buddy.\n",
      "64 done, buddy.\n",
      "65 done, buddy.\n",
      "66 done, buddy.\n",
      "67 done, buddy.\n",
      "68 done, buddy.\n",
      "69 done, buddy.\n",
      "70 done, buddy.\n",
      "71 done, buddy.\n",
      "72 done, buddy.\n",
      "73 done, buddy.\n",
      "74 done, buddy.\n",
      "75 done, buddy.\n",
      "76 done, buddy.\n",
      "77 done, buddy.\n",
      "78 done, buddy.\n",
      "79 done, buddy.\n",
      "80 done, buddy.\n",
      "81 done, buddy.\n",
      "82 done, buddy.\n",
      "83 done, buddy.\n",
      "84 done, buddy.\n",
      "85 done, buddy.\n",
      "86 done, buddy.\n",
      "87 done, buddy.\n",
      "88 done, buddy.\n",
      "89 done, buddy.\n",
      "90 done, buddy.\n",
      "91 done, buddy.\n",
      "92 done, buddy.\n",
      "93 done, buddy.\n",
      "94 done, buddy.\n",
      "95 done, buddy.\n",
      "96 done, buddy.\n",
      "97 done, buddy.\n",
      "98 done, buddy.\n",
      "99 done, buddy.\n"
     ]
    },
    {
     "data": {
      "text/plain": [
       "0.51951193"
      ]
     },
     "execution_count": 17,
     "metadata": {},
     "output_type": "execute_result"
    }
   ],
   "source": [
    "#find average of 100 times iterating 1,000,000 times (.99 goes last)\n",
    "results_99_last = []\n",
    "for jj in range(100):\n",
    "    results_99_last.append(spelling_bee(order='increasing'))\n",
    "    print(f'{jj} done, buddy.')\n",
    "    sleep(80)\n",
    "\n",
    "answer_2 = np.mean(results_99_last)\n",
    "answer_2"
   ]
  },
  {
   "cell_type": "markdown",
   "metadata": {},
   "source": [
    ".99 goes last = 0.51951193"
   ]
  },
  {
   "cell_type": "code",
   "execution_count": 59,
   "metadata": {},
   "outputs": [],
   "source": [
    "#function modified to return full list of winner for each contest\n",
    "def spelling_bee(order='decreasing', iterations=1000000, ret='winners'):    \n",
    "    \n",
    "    #returns the winner of a single spelling bee\n",
    "    def single_contest(contestant_list):\n",
    "        con = contestant_list.copy()\n",
    "        #added turns to calculate avg # of turns per spelling bee\n",
    "        individual_turns = 0\n",
    "        while len(con) > 1:\n",
    "            for turn in con:\n",
    "                individual_turns +=1\n",
    "                n = np.random.binomial(1, turn)\n",
    "                if not n:\n",
    "                    con.remove(turn)\n",
    "                if len(con) == 1:\n",
    "                    winner = [con[0], individual_turns]\n",
    "        return winner\n",
    "    \n",
    "    if order == 'decreasing':\n",
    "        contestants = [x/100 for x in range(99,89,-1)]\n",
    "    elif order == 'increasing':\n",
    "        contestants = [x/100 for x in range(90,100)]\n",
    "    else:\n",
    "        return 'incorrect order'\n",
    "    \n",
    "    its = iterations\n",
    "    \n",
    "    #list fills with winner of each spelling bee\n",
    "    winners = []\n",
    "   \n",
    "    while iterations:\n",
    "        winners.append(single_contest(contestants))\n",
    "        iterations -= 1   \n",
    "    \n",
    "#     #list fills with winner if .99 is winner\n",
    "#     winners = []\n",
    "    \n",
    "#     while iterations:\n",
    "#         x = single_contest(contestants)\n",
    "#         if x == .99:\n",
    "#             winners.append(x)\n",
    "#         iterations -= 1\n",
    "    \n",
    "    if ret == 'winners':\n",
    "        return winners\n",
    "    else:\n",
    "        return len(winners)/its\n",
    "    "
   ]
  },
  {
   "cell_type": "markdown",
   "metadata": {},
   "source": [
    "-----------"
   ]
  },
  {
   "cell_type": "markdown",
   "metadata": {},
   "source": [
    "showing actual results for twenty million spelling bees"
   ]
  },
  {
   "cell_type": "markdown",
   "metadata": {},
   "source": [
    "1- descending order"
   ]
  },
  {
   "cell_type": "code",
   "execution_count": 32,
   "metadata": {},
   "outputs": [],
   "source": [
    "example_decrease = spelling_bee(ret='winners', iterations=20000000)"
   ]
  },
  {
   "cell_type": "code",
   "execution_count": 52,
   "metadata": {},
   "outputs": [
    {
     "data": {
      "text/html": [
       "<div>\n",
       "<style scoped>\n",
       "    .dataframe tbody tr th:only-of-type {\n",
       "        vertical-align: middle;\n",
       "    }\n",
       "\n",
       "    .dataframe tbody tr th {\n",
       "        vertical-align: top;\n",
       "    }\n",
       "\n",
       "    .dataframe thead th {\n",
       "        text-align: right;\n",
       "    }\n",
       "</style>\n",
       "<table border=\"1\" class=\"dataframe\">\n",
       "  <thead>\n",
       "    <tr style=\"text-align: right;\">\n",
       "      <th></th>\n",
       "      <th>0</th>\n",
       "    </tr>\n",
       "  </thead>\n",
       "  <tbody>\n",
       "    <tr>\n",
       "      <th>0.99</th>\n",
       "      <td>10271945</td>\n",
       "    </tr>\n",
       "    <tr>\n",
       "      <th>0.98</th>\n",
       "      <td>4304148</td>\n",
       "    </tr>\n",
       "    <tr>\n",
       "      <th>0.97</th>\n",
       "      <td>2200594</td>\n",
       "    </tr>\n",
       "    <tr>\n",
       "      <th>0.96</th>\n",
       "      <td>1241755</td>\n",
       "    </tr>\n",
       "    <tr>\n",
       "      <th>0.95</th>\n",
       "      <td>748895</td>\n",
       "    </tr>\n",
       "    <tr>\n",
       "      <th>0.94</th>\n",
       "      <td>471280</td>\n",
       "    </tr>\n",
       "    <tr>\n",
       "      <th>0.93</th>\n",
       "      <td>310384</td>\n",
       "    </tr>\n",
       "    <tr>\n",
       "      <th>0.92</th>\n",
       "      <td>207670</td>\n",
       "    </tr>\n",
       "    <tr>\n",
       "      <th>0.91</th>\n",
       "      <td>143363</td>\n",
       "    </tr>\n",
       "    <tr>\n",
       "      <th>0.90</th>\n",
       "      <td>99966</td>\n",
       "    </tr>\n",
       "  </tbody>\n",
       "</table>\n",
       "</div>"
      ],
      "text/plain": [
       "             0\n",
       "0.99  10271945\n",
       "0.98   4304148\n",
       "0.97   2200594\n",
       "0.96   1241755\n",
       "0.95    748895\n",
       "0.94    471280\n",
       "0.93    310384\n",
       "0.92    207670\n",
       "0.91    143363\n",
       "0.90     99966"
      ]
     },
     "execution_count": 52,
     "metadata": {},
     "output_type": "execute_result"
    }
   ],
   "source": [
    "contestants = [x/100 for x in range(99,89,-1)]\n",
    "\n",
    "win = [x[0] for x in example_decrease]\n",
    "\n",
    "win_count = [win.count(x) for x in contestants]\n",
    "\n",
    "decrease_counts = pd.DataFrame(win_count, contestants)\n",
    "decrease_counts"
   ]
  },
  {
   "cell_type": "code",
   "execution_count": 57,
   "metadata": {},
   "outputs": [],
   "source": [
    "decrease_counts.to_csv('decrease_counts.csv')"
   ]
  },
  {
   "cell_type": "code",
   "execution_count": 91,
   "metadata": {},
   "outputs": [],
   "source": [
    "contestants.reverse()"
   ]
  },
  {
   "cell_type": "code",
   "execution_count": 92,
   "metadata": {},
   "outputs": [
    {
     "data": {
      "text/plain": [
       "[0.9, 0.91, 0.92, 0.93, 0.94, 0.95, 0.96, 0.97, 0.98, 0.99]"
      ]
     },
     "execution_count": 92,
     "metadata": {},
     "output_type": "execute_result"
    }
   ],
   "source": [
    "contestants"
   ]
  },
  {
   "cell_type": "code",
   "execution_count": 103,
   "metadata": {},
   "outputs": [
    {
     "data": {
      "image/png": "[encoded data removed]",
      "text/plain": [
       "<Figure size 864x504 with 1 Axes>"
      ]
     },
     "metadata": {},
     "output_type": "display_data"
    }
   ],
   "source": [
    "fig, ax = plt.subplots(figsize=(12,7))\n",
    "plt.hist(win, edgecolor='k', linewidth=1.5)\n",
    "plt.title('20,000,000 Contents, 99% Speller with First Turn', fontsize=18)\n",
    "plt.xlabel('Contestant Dictionary Knowledge %', fontsize=13)\n",
    "plt.ylabel('Frequency', fontsize=13)\n",
    "ax.set_xticks(ticks=contestants)\n",
    "ax.set_xticklabels(contestants, rotation=35, ha='center')\n",
    "ax.invert_xaxis();"
   ]
  },
  {
   "cell_type": "code",
   "execution_count": 106,
   "metadata": {},
   "outputs": [],
   "source": [
    "turn_counts = [x[1] for x in example_decrease]"
   ]
  },
  {
   "cell_type": "code",
   "execution_count": 110,
   "metadata": {},
   "outputs": [
    {
     "data": {
      "image/png": "[encoded data removed]",
      "text/plain": [
       "<Figure size 864x504 with 1 Axes>"
      ]
     },
     "metadata": {},
     "output_type": "display_data"
    }
   ],
   "source": [
    "fig, ax = plt.subplots(figsize=(12,7))\n",
    "plt.hist(turn_counts, bins= 100, edgecolor='k', linewidth=1.5)\n",
    "plt.title('Freqency of Turns for 20,000,000 Contests', fontsize=18)\n",
    "plt.xlabel('Number of Turns', fontsize=13)\n",
    "plt.ylabel('Frequency', fontsize=13);"
   ]
  },
  {
   "cell_type": "code",
   "execution_count": 126,
   "metadata": {},
   "outputs": [
    {
     "name": "stdout",
     "output_type": "stream",
     "text": [
      "Shortest contest = 21\n",
      "Longest contest = 1261\n",
      "Average contest = 223.8896097\n"
     ]
    }
   ],
   "source": [
    "print(f'Shortest contest = {min(turn_counts)}')\n",
    "print(f'Longest contest = {max(turn_counts)}')\n",
    "print(f'Average contest = {np.mean(turn_counts)}')"
   ]
  },
  {
   "cell_type": "code",
   "execution_count": 122,
   "metadata": {},
   "outputs": [
    {
     "data": {
      "text/plain": [
       "0.51359725"
      ]
     },
     "execution_count": 122,
     "metadata": {},
     "output_type": "execute_result"
    }
   ],
   "source": [
    "10271945/20000000"
   ]
  },
  {
   "cell_type": "markdown",
   "metadata": {},
   "source": [
    "--------"
   ]
  },
  {
   "cell_type": "markdown",
   "metadata": {},
   "source": [
    "2- ascending order"
   ]
  },
  {
   "cell_type": "code",
   "execution_count": 33,
   "metadata": {},
   "outputs": [],
   "source": [
    "example_increase = spelling_bee(order = 'increasing', iterations=20000000, ret='winners')"
   ]
  },
  {
   "cell_type": "code",
   "execution_count": 53,
   "metadata": {},
   "outputs": [
    {
     "data": {
      "text/html": [
       "<div>\n",
       "<style scoped>\n",
       "    .dataframe tbody tr th:only-of-type {\n",
       "        vertical-align: middle;\n",
       "    }\n",
       "\n",
       "    .dataframe tbody tr th {\n",
       "        vertical-align: top;\n",
       "    }\n",
       "\n",
       "    .dataframe thead th {\n",
       "        text-align: right;\n",
       "    }\n",
       "</style>\n",
       "<table border=\"1\" class=\"dataframe\">\n",
       "  <thead>\n",
       "    <tr style=\"text-align: right;\">\n",
       "      <th></th>\n",
       "      <th>0</th>\n",
       "    </tr>\n",
       "  </thead>\n",
       "  <tbody>\n",
       "    <tr>\n",
       "      <th>0.99</th>\n",
       "      <td>10394450</td>\n",
       "    </tr>\n",
       "    <tr>\n",
       "      <th>0.98</th>\n",
       "      <td>4361426</td>\n",
       "    </tr>\n",
       "    <tr>\n",
       "      <th>0.97</th>\n",
       "      <td>2210858</td>\n",
       "    </tr>\n",
       "    <tr>\n",
       "      <th>0.96</th>\n",
       "      <td>1232137</td>\n",
       "    </tr>\n",
       "    <tr>\n",
       "      <th>0.95</th>\n",
       "      <td>726500</td>\n",
       "    </tr>\n",
       "    <tr>\n",
       "      <th>0.94</th>\n",
       "      <td>443215</td>\n",
       "    </tr>\n",
       "    <tr>\n",
       "      <th>0.93</th>\n",
       "      <td>277885</td>\n",
       "    </tr>\n",
       "    <tr>\n",
       "      <th>0.92</th>\n",
       "      <td>175429</td>\n",
       "    </tr>\n",
       "    <tr>\n",
       "      <th>0.91</th>\n",
       "      <td>111344</td>\n",
       "    </tr>\n",
       "    <tr>\n",
       "      <th>0.90</th>\n",
       "      <td>66756</td>\n",
       "    </tr>\n",
       "  </tbody>\n",
       "</table>\n",
       "</div>"
      ],
      "text/plain": [
       "             0\n",
       "0.99  10394450\n",
       "0.98   4361426\n",
       "0.97   2210858\n",
       "0.96   1232137\n",
       "0.95    726500\n",
       "0.94    443215\n",
       "0.93    277885\n",
       "0.92    175429\n",
       "0.91    111344\n",
       "0.90     66756"
      ]
     },
     "execution_count": 53,
     "metadata": {},
     "output_type": "execute_result"
    }
   ],
   "source": [
    "contestants2 = [x/100 for x in range(99,89,-1)]\n",
    "\n",
    "win2 = [x[0] for x in example_increase]\n",
    "\n",
    "win2_count = [win2.count(x) for x in contestants2]\n",
    "\n",
    "increase_counts = pd.DataFrame(win2_count, contestants2)\n",
    "increase_counts"
   ]
  },
  {
   "cell_type": "code",
   "execution_count": 56,
   "metadata": {},
   "outputs": [],
   "source": [
    "increase_counts.to_csv('increase_counts.csv')"
   ]
  },
  {
   "cell_type": "code",
   "execution_count": 105,
   "metadata": {},
   "outputs": [
    {
     "data": {
      "image/png": "[encoded data removed]",
      "text/plain": [
       "<Figure size 864x504 with 1 Axes>"
      ]
     },
     "metadata": {},
     "output_type": "display_data"
    }
   ],
   "source": [
    "fig, ax = plt.subplots(figsize=(12,7))\n",
    "plt.hist(win2, edgecolor='k', linewidth=1.5)\n",
    "plt.title('20,000,000 Contents, 99% Speller with Last Turn', fontsize=18)\n",
    "plt.xlabel('Contestant Dictionary Knowledge %', fontsize=13)\n",
    "plt.ylabel('Frequency', fontsize=13)\n",
    "ax.set_xticks(ticks=contestants2)\n",
    "ax.set_xticklabels(contestants2, rotation=35, ha='center');"
   ]
  },
  {
   "cell_type": "code",
   "execution_count": 111,
   "metadata": {},
   "outputs": [],
   "source": [
    "turn_counts2 = [x[1] for x in example_increase]"
   ]
  },
  {
   "cell_type": "code",
   "execution_count": 112,
   "metadata": {},
   "outputs": [
    {
     "data": {
      "image/png": "[encoded data removed]",
      "text/plain": [
       "<Figure size 864x504 with 1 Axes>"
      ]
     },
     "metadata": {},
     "output_type": "display_data"
    }
   ],
   "source": [
    "fig, ax = plt.subplots(figsize=(12,7))\n",
    "plt.hist(turn_counts2, bins= 100, edgecolor='k', linewidth=1.5)\n",
    "plt.title('Freqency of Turns for 20,000,000 Contests', fontsize=18)\n",
    "plt.xlabel('Number of Turns', fontsize=13)\n",
    "plt.ylabel('Frequency', fontsize=13);"
   ]
  },
  {
   "cell_type": "code",
   "execution_count": 125,
   "metadata": {},
   "outputs": [
    {
     "name": "stdout",
     "output_type": "stream",
     "text": [
      "Shortest contest = 21\n",
      "Longest contest = 1405\n",
      "Average contest = 223.31559605\n"
     ]
    }
   ],
   "source": [
    "print(f'Shortest contest = {min(turn_counts2)}')\n",
    "print(f'Longest contest = {max(turn_counts2)}')\n",
    "print(f'Average contest = {np.mean(turn_counts2)}')"
   ]
  },
  {
   "cell_type": "code",
   "execution_count": 123,
   "metadata": {},
   "outputs": [
    {
     "data": {
      "text/plain": [
       "0.5197225"
      ]
     },
     "execution_count": 123,
     "metadata": {},
     "output_type": "execute_result"
    }
   ],
   "source": [
    "10394450/20000000"
   ]
  },
  {
   "cell_type": "code",
   "execution_count": 127,
   "metadata": {},
   "outputs": [
    {
     "data": {
      "text/plain": [
       "'http://dpaste.com/259WCJB'"
      ]
     },
     "execution_count": 127,
     "metadata": {},
     "output_type": "execute_result"
    }
   ],
   "source": [
    "%pastebin 1-30"
   ]
  },
  {
   "cell_type": "code",
   "execution_count": null,
   "metadata": {},
   "outputs": [],
   "source": []
  }
 ],
 "metadata": {
  "kernelspec": {
   "display_name": "Python 3",
   "language": "python",
   "name": "python3"
  },
  "language_info": {
   "codemirror_mode": {
    "name": "ipython",
    "version": 3
   },
   "file_extension": ".py",
   "mimetype": "text/x-python",
   "name": "python",
   "nbconvert_exporter": "python",
   "pygments_lexer": "ipython3",
   "version": "3.6.5"
  }
 },
 "nbformat": 4,
 "nbformat_minor": 2
}
